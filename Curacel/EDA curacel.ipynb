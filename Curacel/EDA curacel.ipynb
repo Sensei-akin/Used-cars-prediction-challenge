{
 "cells": [
  {
   "cell_type": "code",
   "execution_count": 2,
   "metadata": {},
   "outputs": [],
   "source": [
    "import pandas as pd\n",
    "from sklearn.neighbors import KNeighborsRegressor\n",
    "import matplotlib.pyplot as plt\n",
    "import seaborn as sns\n",
    "from scipy import stats\n",
    "from sklearn.linear_model import LinearRegression\n",
    "from datetime import date\n",
    "from dateutil.parser import parse\n",
    "import numpy as np\n",
    "from sklearn import preprocessing\n",
    "from sklearn import tree, metrics\n",
    "from sklearn.model_selection import train_test_split\n",
    "from sklearn.model_selection import cross_val_score\n",
    "from sklearn.model_selection import GridSearchCV,RandomizedSearchCV\n",
    "\n",
    "%matplotlib inline\n",
    "\n",
    "import warnings\n",
    "warnings.filterwarnings('ignore')"
   ]
  },
  {
   "cell_type": "code",
   "execution_count": 3,
   "metadata": {},
   "outputs": [],
   "source": [
    "df = pd.read_csv('data/train_df.csv')"
   ]
  },
  {
   "cell_type": "markdown",
   "metadata": {},
   "source": [
    "## EDA"
   ]
  },
  {
   "cell_type": "code",
   "execution_count": 4,
   "metadata": {},
   "outputs": [],
   "source": [
    "final_df=df.copy()"
   ]
  },
  {
   "cell_type": "code",
   "execution_count": 5,
   "metadata": {},
   "outputs": [
    {
     "name": "stdout",
     "output_type": "stream",
     "text": [
      "<class 'pandas.core.frame.DataFrame'>\n",
      "RangeIndex: 12533 entries, 0 to 12532\n",
      "Data columns (total 21 columns):\n",
      "ID                     12533 non-null object\n",
      "Title                  12533 non-null object\n",
      "Price                  12533 non-null int64\n",
      "Brand                  12533 non-null object\n",
      "Model                  12533 non-null object\n",
      "Year of Manufacture    12533 non-null int64\n",
      "Used                   12533 non-null object\n",
      "Transmission           12533 non-null object\n",
      "Color Family           11696 non-null object\n",
      "Mileage (in km)        9163 non-null float64\n",
      "Body Type              12533 non-null object\n",
      "Version                860 non-null object\n",
      "Description            12533 non-null object\n",
      "Poster                 12311 non-null object\n",
      "Poster Type            12533 non-null object\n",
      "Fuel Type              9999 non-null object\n",
      "Location.2             12533 non-null object\n",
      "Date Posted            12533 non-null int64\n",
      "name                   12533 non-null object\n",
      "retail                 12533 non-null int64\n",
      "Post Age               12533 non-null int64\n",
      "dtypes: float64(1), int64(5), object(15)\n",
      "memory usage: 2.0+ MB\n"
     ]
    }
   ],
   "source": [
    "final_df.info()"
   ]
  },
  {
   "cell_type": "code",
   "execution_count": 6,
   "metadata": {},
   "outputs": [
    {
     "data": {
      "text/html": [
       "<div>\n",
       "<style scoped>\n",
       "    .dataframe tbody tr th:only-of-type {\n",
       "        vertical-align: middle;\n",
       "    }\n",
       "\n",
       "    .dataframe tbody tr th {\n",
       "        vertical-align: top;\n",
       "    }\n",
       "\n",
       "    .dataframe thead th {\n",
       "        text-align: right;\n",
       "    }\n",
       "</style>\n",
       "<table border=\"1\" class=\"dataframe\">\n",
       "  <thead>\n",
       "    <tr style=\"text-align: right;\">\n",
       "      <th></th>\n",
       "      <th>ID</th>\n",
       "      <th>Title</th>\n",
       "      <th>Price</th>\n",
       "      <th>Brand</th>\n",
       "      <th>Model</th>\n",
       "      <th>Year of Manufacture</th>\n",
       "      <th>Used</th>\n",
       "      <th>Transmission</th>\n",
       "      <th>Color Family</th>\n",
       "      <th>Mileage (in km)</th>\n",
       "      <th>...</th>\n",
       "      <th>Description</th>\n",
       "      <th>Poster</th>\n",
       "      <th>Poster Type</th>\n",
       "      <th>Fuel Type</th>\n",
       "      <th>Location.2</th>\n",
       "      <th>Date Posted</th>\n",
       "      <th>name</th>\n",
       "      <th>retail</th>\n",
       "      <th>Post Age</th>\n",
       "      <th>age_of_car</th>\n",
       "    </tr>\n",
       "  </thead>\n",
       "  <tbody>\n",
       "    <tr>\n",
       "      <td>0</td>\n",
       "      <td>CAR000001</td>\n",
       "      <td>Red Chevrolet Cruze 2012 Automatic Gasoline fo...</td>\n",
       "      <td>299000</td>\n",
       "      <td>Chevrolet</td>\n",
       "      <td>Cruze</td>\n",
       "      <td>2012</td>\n",
       "      <td>Yes</td>\n",
       "      <td>Automatic</td>\n",
       "      <td>NaN</td>\n",
       "      <td>60000.0</td>\n",
       "      <td>...</td>\n",
       "      <td>Automatic Transmission Chevrolet Cruze 2012 - ...</td>\n",
       "      <td>Call_09154552229</td>\n",
       "      <td>Individual</td>\n",
       "      <td>Gasoline</td>\n",
       "      <td>Paranaque</td>\n",
       "      <td>43662</td>\n",
       "      <td>ChevroletCruze</td>\n",
       "      <td>858888</td>\n",
       "      <td>16</td>\n",
       "      <td>7</td>\n",
       "    </tr>\n",
       "    <tr>\n",
       "      <td>1</td>\n",
       "      <td>CAR000002</td>\n",
       "      <td>Sell Brown 2016 Chevrolet Captiva Automatic Di...</td>\n",
       "      <td>828000</td>\n",
       "      <td>Chevrolet</td>\n",
       "      <td>Captiva</td>\n",
       "      <td>2016</td>\n",
       "      <td>Yes</td>\n",
       "      <td>Automatic</td>\n",
       "      <td>Brown</td>\n",
       "      <td>NaN</td>\n",
       "      <td>...</td>\n",
       "      <td>2016 Chevrolet All New Captiva  VCDi 2.0 Turbo...</td>\n",
       "      <td>Bestcardealsph</td>\n",
       "      <td>Dealer</td>\n",
       "      <td>Diesel</td>\n",
       "      <td>Manila</td>\n",
       "      <td>43663</td>\n",
       "      <td>ChevroletCaptiva</td>\n",
       "      <td>1313888</td>\n",
       "      <td>15</td>\n",
       "      <td>3</td>\n",
       "    </tr>\n",
       "    <tr>\n",
       "      <td>2</td>\n",
       "      <td>CAR000003</td>\n",
       "      <td>Sell Used 2018 Chevrolet Sail Automatic at 600...</td>\n",
       "      <td>450000</td>\n",
       "      <td>Chevrolet</td>\n",
       "      <td>Sail</td>\n",
       "      <td>2018</td>\n",
       "      <td>Yes</td>\n",
       "      <td>Automatic</td>\n",
       "      <td>NaN</td>\n",
       "      <td>6000.0</td>\n",
       "      <td>...</td>\n",
       "      <td>2018 CHEVROLET SAIL Automatic Transmission 6tk...</td>\n",
       "      <td>jayjet</td>\n",
       "      <td>Individual</td>\n",
       "      <td>Gasoline</td>\n",
       "      <td>Quezon City</td>\n",
       "      <td>43806</td>\n",
       "      <td>ChevroletSail</td>\n",
       "      <td>791888</td>\n",
       "      <td>20</td>\n",
       "      <td>1</td>\n",
       "    </tr>\n",
       "    <tr>\n",
       "      <td>3</td>\n",
       "      <td>CAR000004</td>\n",
       "      <td>Sell 2nd Hand 2016 Chevrolet Sail at 6000 km i...</td>\n",
       "      <td>450000</td>\n",
       "      <td>Chevrolet</td>\n",
       "      <td>Sail</td>\n",
       "      <td>2016</td>\n",
       "      <td>Yes</td>\n",
       "      <td>Automatic</td>\n",
       "      <td>White</td>\n",
       "      <td>6000.0</td>\n",
       "      <td>...</td>\n",
       "      <td>2018 CHEVROLET SAIL Automatic Transmission 6tk...</td>\n",
       "      <td>jayjet</td>\n",
       "      <td>Individual</td>\n",
       "      <td>Gasoline</td>\n",
       "      <td>Quezon City</td>\n",
       "      <td>43806</td>\n",
       "      <td>ChevroletSail</td>\n",
       "      <td>791888</td>\n",
       "      <td>20</td>\n",
       "      <td>3</td>\n",
       "    </tr>\n",
       "    <tr>\n",
       "      <td>4</td>\n",
       "      <td>CAR000005</td>\n",
       "      <td>Used 2011 Chevrolet Captiva Automatic Diesel f...</td>\n",
       "      <td>468000</td>\n",
       "      <td>Chevrolet</td>\n",
       "      <td>Captiva</td>\n",
       "      <td>2011</td>\n",
       "      <td>Yes</td>\n",
       "      <td>Automatic</td>\n",
       "      <td>NaN</td>\n",
       "      <td>87000.0</td>\n",
       "      <td>...</td>\n",
       "      <td>2011 Chevrolet Captiva 4x2 AT Diesel Showroom ...</td>\n",
       "      <td>All Cars Manila by: Michael Millicent</td>\n",
       "      <td>Dealer</td>\n",
       "      <td>Diesel</td>\n",
       "      <td>Makati</td>\n",
       "      <td>43745</td>\n",
       "      <td>ChevroletCaptiva</td>\n",
       "      <td>1313888</td>\n",
       "      <td>22</td>\n",
       "      <td>8</td>\n",
       "    </tr>\n",
       "  </tbody>\n",
       "</table>\n",
       "<p>5 rows × 22 columns</p>\n",
       "</div>"
      ],
      "text/plain": [
       "          ID                                              Title   Price  \\\n",
       "0  CAR000001  Red Chevrolet Cruze 2012 Automatic Gasoline fo...  299000   \n",
       "1  CAR000002  Sell Brown 2016 Chevrolet Captiva Automatic Di...  828000   \n",
       "2  CAR000003  Sell Used 2018 Chevrolet Sail Automatic at 600...  450000   \n",
       "3  CAR000004  Sell 2nd Hand 2016 Chevrolet Sail at 6000 km i...  450000   \n",
       "4  CAR000005  Used 2011 Chevrolet Captiva Automatic Diesel f...  468000   \n",
       "\n",
       "       Brand    Model  Year of Manufacture Used Transmission Color Family  \\\n",
       "0  Chevrolet    Cruze                 2012  Yes    Automatic          NaN   \n",
       "1  Chevrolet  Captiva                 2016  Yes    Automatic        Brown   \n",
       "2  Chevrolet     Sail                 2018  Yes    Automatic          NaN   \n",
       "3  Chevrolet     Sail                 2016  Yes    Automatic        White   \n",
       "4  Chevrolet  Captiva                 2011  Yes    Automatic          NaN   \n",
       "\n",
       "   Mileage (in km)  ...                                        Description  \\\n",
       "0          60000.0  ...  Automatic Transmission Chevrolet Cruze 2012 - ...   \n",
       "1              NaN  ...  2016 Chevrolet All New Captiva  VCDi 2.0 Turbo...   \n",
       "2           6000.0  ...  2018 CHEVROLET SAIL Automatic Transmission 6tk...   \n",
       "3           6000.0  ...  2018 CHEVROLET SAIL Automatic Transmission 6tk...   \n",
       "4          87000.0  ...  2011 Chevrolet Captiva 4x2 AT Diesel Showroom ...   \n",
       "\n",
       "                                  Poster Poster Type Fuel Type   Location.2  \\\n",
       "0                       Call_09154552229  Individual  Gasoline    Paranaque   \n",
       "1                         Bestcardealsph      Dealer    Diesel       Manila   \n",
       "2                                 jayjet  Individual  Gasoline  Quezon City   \n",
       "3                                 jayjet  Individual  Gasoline  Quezon City   \n",
       "4  All Cars Manila by: Michael Millicent      Dealer    Diesel       Makati   \n",
       "\n",
       "  Date Posted              name   retail Post Age  age_of_car  \n",
       "0       43662    ChevroletCruze   858888       16           7  \n",
       "1       43663  ChevroletCaptiva  1313888       15           3  \n",
       "2       43806     ChevroletSail   791888       20           1  \n",
       "3       43806     ChevroletSail   791888       20           3  \n",
       "4       43745  ChevroletCaptiva  1313888       22           8  \n",
       "\n",
       "[5 rows x 22 columns]"
      ]
     },
     "execution_count": 6,
     "metadata": {},
     "output_type": "execute_result"
    }
   ],
   "source": [
    "final_df['age_of_car']=2019-final_df['Year of Manufacture']\n",
    "final_df.head()"
   ]
  },
  {
   "cell_type": "code",
   "execution_count": 7,
   "metadata": {},
   "outputs": [],
   "source": [
    "#deleted Poster, Version and Description\n",
    "final_df.drop(columns=['Poster','Version','Description','Title','Used','name','Date Posted','Year of Manufacture'],inplace=True,axis=1)"
   ]
  },
  {
   "cell_type": "code",
   "execution_count": 8,
   "metadata": {},
   "outputs": [
    {
     "data": {
      "text/html": [
       "<div>\n",
       "<style scoped>\n",
       "    .dataframe tbody tr th:only-of-type {\n",
       "        vertical-align: middle;\n",
       "    }\n",
       "\n",
       "    .dataframe tbody tr th {\n",
       "        vertical-align: top;\n",
       "    }\n",
       "\n",
       "    .dataframe thead th {\n",
       "        text-align: right;\n",
       "    }\n",
       "</style>\n",
       "<table border=\"1\" class=\"dataframe\">\n",
       "  <thead>\n",
       "    <tr style=\"text-align: right;\">\n",
       "      <th></th>\n",
       "      <th>ID</th>\n",
       "      <th>Price</th>\n",
       "      <th>Brand</th>\n",
       "      <th>Model</th>\n",
       "      <th>Transmission</th>\n",
       "      <th>Color Family</th>\n",
       "      <th>Mileage (in km)</th>\n",
       "      <th>Body Type</th>\n",
       "      <th>Poster Type</th>\n",
       "      <th>Fuel Type</th>\n",
       "      <th>Location.2</th>\n",
       "      <th>retail</th>\n",
       "      <th>Post Age</th>\n",
       "      <th>age_of_car</th>\n",
       "    </tr>\n",
       "  </thead>\n",
       "  <tbody>\n",
       "    <tr>\n",
       "      <td>1</td>\n",
       "      <td>CAR000002</td>\n",
       "      <td>828000</td>\n",
       "      <td>Chevrolet</td>\n",
       "      <td>Captiva</td>\n",
       "      <td>Automatic</td>\n",
       "      <td>Brown</td>\n",
       "      <td>NaN</td>\n",
       "      <td>SUV</td>\n",
       "      <td>Dealer</td>\n",
       "      <td>Diesel</td>\n",
       "      <td>Manila</td>\n",
       "      <td>1313888</td>\n",
       "      <td>15</td>\n",
       "      <td>3</td>\n",
       "    </tr>\n",
       "    <tr>\n",
       "      <td>3</td>\n",
       "      <td>CAR000004</td>\n",
       "      <td>450000</td>\n",
       "      <td>Chevrolet</td>\n",
       "      <td>Sail</td>\n",
       "      <td>Automatic</td>\n",
       "      <td>White</td>\n",
       "      <td>6000.0</td>\n",
       "      <td>Saloon / Sedan</td>\n",
       "      <td>Individual</td>\n",
       "      <td>Gasoline</td>\n",
       "      <td>Quezon City</td>\n",
       "      <td>791888</td>\n",
       "      <td>20</td>\n",
       "      <td>3</td>\n",
       "    </tr>\n",
       "    <tr>\n",
       "      <td>5</td>\n",
       "      <td>CAR000006</td>\n",
       "      <td>850000</td>\n",
       "      <td>Chevrolet</td>\n",
       "      <td>Captiva</td>\n",
       "      <td>Shiftable Automatic</td>\n",
       "      <td>Black</td>\n",
       "      <td>60000.0</td>\n",
       "      <td>SUV</td>\n",
       "      <td>Individual</td>\n",
       "      <td>Diesel</td>\n",
       "      <td>Makati</td>\n",
       "      <td>1313888</td>\n",
       "      <td>16</td>\n",
       "      <td>4</td>\n",
       "    </tr>\n",
       "    <tr>\n",
       "      <td>7</td>\n",
       "      <td>CAR000008</td>\n",
       "      <td>700000</td>\n",
       "      <td>Chevrolet</td>\n",
       "      <td>Trailblazer</td>\n",
       "      <td>Shiftable Automatic</td>\n",
       "      <td>White</td>\n",
       "      <td>40000.0</td>\n",
       "      <td>SUV</td>\n",
       "      <td>Individual</td>\n",
       "      <td>Diesel</td>\n",
       "      <td>Manila</td>\n",
       "      <td>1618888</td>\n",
       "      <td>17</td>\n",
       "      <td>3</td>\n",
       "    </tr>\n",
       "    <tr>\n",
       "      <td>14</td>\n",
       "      <td>CAR000015</td>\n",
       "      <td>829000</td>\n",
       "      <td>Chevrolet</td>\n",
       "      <td>Trailblazer</td>\n",
       "      <td>Automatic</td>\n",
       "      <td>White</td>\n",
       "      <td>15000.0</td>\n",
       "      <td>SUV</td>\n",
       "      <td>Individual</td>\n",
       "      <td>Diesel</td>\n",
       "      <td>Norzagaray</td>\n",
       "      <td>1618888</td>\n",
       "      <td>34</td>\n",
       "      <td>4</td>\n",
       "    </tr>\n",
       "  </tbody>\n",
       "</table>\n",
       "</div>"
      ],
      "text/plain": [
       "           ID   Price      Brand        Model         Transmission  \\\n",
       "1   CAR000002  828000  Chevrolet      Captiva            Automatic   \n",
       "3   CAR000004  450000  Chevrolet         Sail            Automatic   \n",
       "5   CAR000006  850000  Chevrolet      Captiva  Shiftable Automatic   \n",
       "7   CAR000008  700000  Chevrolet  Trailblazer  Shiftable Automatic   \n",
       "14  CAR000015  829000  Chevrolet  Trailblazer            Automatic   \n",
       "\n",
       "   Color Family  Mileage (in km)       Body Type Poster Type Fuel Type  \\\n",
       "1         Brown              NaN             SUV      Dealer    Diesel   \n",
       "3         White           6000.0  Saloon / Sedan  Individual  Gasoline   \n",
       "5         Black          60000.0             SUV  Individual    Diesel   \n",
       "7         White          40000.0             SUV  Individual    Diesel   \n",
       "14        White          15000.0             SUV  Individual    Diesel   \n",
       "\n",
       "     Location.2   retail  Post Age  age_of_car  \n",
       "1        Manila  1313888        15           3  \n",
       "3   Quezon City   791888        20           3  \n",
       "5        Makati  1313888        16           4  \n",
       "7        Manila  1618888        17           3  \n",
       "14   Norzagaray  1618888        34           4  "
      ]
     },
     "execution_count": 8,
     "metadata": {},
     "output_type": "execute_result"
    }
   ],
   "source": [
    "final_df=final_df[final_df['age_of_car']>=0]\n",
    "final_df=final_df[final_df['retail']>0]\n",
    "final_df=final_df[final_df['Color Family'].notnull()]\n",
    "final_df=final_df[final_df['Fuel Type'].notnull()]\n",
    "final_df.head()"
   ]
  },
  {
   "cell_type": "code",
   "execution_count": 9,
   "metadata": {},
   "outputs": [
    {
     "name": "stdout",
     "output_type": "stream",
     "text": [
      "<class 'pandas.core.frame.DataFrame'>\n",
      "Int64Index: 8007 entries, 1 to 12532\n",
      "Data columns (total 14 columns):\n",
      "ID                 8007 non-null object\n",
      "Price              8007 non-null int64\n",
      "Brand              8007 non-null object\n",
      "Model              8007 non-null object\n",
      "Transmission       8007 non-null object\n",
      "Color Family       8007 non-null object\n",
      "Mileage (in km)    5868 non-null float64\n",
      "Body Type          8007 non-null object\n",
      "Poster Type        8007 non-null object\n",
      "Fuel Type          8007 non-null object\n",
      "Location.2         8007 non-null object\n",
      "retail             8007 non-null int64\n",
      "Post Age           8007 non-null int64\n",
      "age_of_car         8007 non-null int64\n",
      "dtypes: float64(1), int64(4), object(9)\n",
      "memory usage: 938.3+ KB\n"
     ]
    }
   ],
   "source": [
    "final_df.info()"
   ]
  },
  {
   "cell_type": "code",
   "execution_count": 10,
   "metadata": {},
   "outputs": [
    {
     "data": {
      "text/html": [
       "<div>\n",
       "<style scoped>\n",
       "    .dataframe tbody tr th:only-of-type {\n",
       "        vertical-align: middle;\n",
       "    }\n",
       "\n",
       "    .dataframe tbody tr th {\n",
       "        vertical-align: top;\n",
       "    }\n",
       "\n",
       "    .dataframe thead th {\n",
       "        text-align: right;\n",
       "    }\n",
       "</style>\n",
       "<table border=\"1\" class=\"dataframe\">\n",
       "  <thead>\n",
       "    <tr style=\"text-align: right;\">\n",
       "      <th></th>\n",
       "      <th>Price</th>\n",
       "      <th>Mileage (in km)</th>\n",
       "      <th>retail</th>\n",
       "      <th>Post Age</th>\n",
       "      <th>age_of_car</th>\n",
       "    </tr>\n",
       "  </thead>\n",
       "  <tbody>\n",
       "    <tr>\n",
       "      <td>count</td>\n",
       "      <td>8.007000e+03</td>\n",
       "      <td>5.868000e+03</td>\n",
       "      <td>8.007000e+03</td>\n",
       "      <td>8007.000000</td>\n",
       "      <td>8007.000000</td>\n",
       "    </tr>\n",
       "    <tr>\n",
       "      <td>mean</td>\n",
       "      <td>7.085487e+05</td>\n",
       "      <td>5.908322e+04</td>\n",
       "      <td>1.403555e+06</td>\n",
       "      <td>36.057824</td>\n",
       "      <td>7.095916</td>\n",
       "    </tr>\n",
       "    <tr>\n",
       "      <td>std</td>\n",
       "      <td>9.049941e+05</td>\n",
       "      <td>4.979653e+04</td>\n",
       "      <td>8.842542e+05</td>\n",
       "      <td>18.143226</td>\n",
       "      <td>5.763084</td>\n",
       "    </tr>\n",
       "    <tr>\n",
       "      <td>min</td>\n",
       "      <td>5.000000e+03</td>\n",
       "      <td>7.000000e+00</td>\n",
       "      <td>4.450000e+05</td>\n",
       "      <td>5.000000</td>\n",
       "      <td>0.000000</td>\n",
       "    </tr>\n",
       "    <tr>\n",
       "      <td>25%</td>\n",
       "      <td>3.315000e+05</td>\n",
       "      <td>2.700000e+04</td>\n",
       "      <td>8.280000e+05</td>\n",
       "      <td>24.500000</td>\n",
       "      <td>3.000000</td>\n",
       "    </tr>\n",
       "    <tr>\n",
       "      <td>50%</td>\n",
       "      <td>5.000000e+05</td>\n",
       "      <td>5.200000e+04</td>\n",
       "      <td>1.185000e+06</td>\n",
       "      <td>32.000000</td>\n",
       "      <td>6.000000</td>\n",
       "    </tr>\n",
       "    <tr>\n",
       "      <td>75%</td>\n",
       "      <td>7.980000e+05</td>\n",
       "      <td>8.014075e+04</td>\n",
       "      <td>1.607000e+06</td>\n",
       "      <td>40.000000</td>\n",
       "      <td>10.000000</td>\n",
       "    </tr>\n",
       "    <tr>\n",
       "      <td>max</td>\n",
       "      <td>2.780000e+07</td>\n",
       "      <td>1.480000e+06</td>\n",
       "      <td>9.200000e+06</td>\n",
       "      <td>106.000000</td>\n",
       "      <td>52.000000</td>\n",
       "    </tr>\n",
       "  </tbody>\n",
       "</table>\n",
       "</div>"
      ],
      "text/plain": [
       "              Price  Mileage (in km)        retail     Post Age   age_of_car\n",
       "count  8.007000e+03     5.868000e+03  8.007000e+03  8007.000000  8007.000000\n",
       "mean   7.085487e+05     5.908322e+04  1.403555e+06    36.057824     7.095916\n",
       "std    9.049941e+05     4.979653e+04  8.842542e+05    18.143226     5.763084\n",
       "min    5.000000e+03     7.000000e+00  4.450000e+05     5.000000     0.000000\n",
       "25%    3.315000e+05     2.700000e+04  8.280000e+05    24.500000     3.000000\n",
       "50%    5.000000e+05     5.200000e+04  1.185000e+06    32.000000     6.000000\n",
       "75%    7.980000e+05     8.014075e+04  1.607000e+06    40.000000    10.000000\n",
       "max    2.780000e+07     1.480000e+06  9.200000e+06   106.000000    52.000000"
      ]
     },
     "execution_count": 10,
     "metadata": {},
     "output_type": "execute_result"
    }
   ],
   "source": [
    "final_df.describe()"
   ]
  },
  {
   "cell_type": "markdown",
   "metadata": {},
   "source": [
    "## Check the Data Some More"
   ]
  },
  {
   "cell_type": "code",
   "execution_count": 11,
   "metadata": {},
   "outputs": [],
   "source": [
    "x=final_df['Mileage (in km)']\n",
    "y=final_df['age_of_car']"
   ]
  },
  {
   "cell_type": "code",
   "execution_count": 12,
   "metadata": {},
   "outputs": [],
   "source": [
    "#isolate x and y values that have mileage values in. In other words, we removed blank mileage records.\n",
    "x_val=final_df['Mileage (in km)'].loc[final_df['Mileage (in km)'].notnull()]\n",
    "y_val=final_df['age_of_car'].loc[~final_df['Mileage (in km)'].isnull()]"
   ]
  },
  {
   "cell_type": "code",
   "execution_count": 13,
   "metadata": {},
   "outputs": [
    {
     "data": {
      "text/plain": [
       "(0, 1000000)"
      ]
     },
     "execution_count": 13,
     "metadata": {},
     "output_type": "execute_result"
    },
    {
     "data": {
      "image/png": "[encoded data removed]",
      "text/plain": [
       "<Figure size 432x288 with 1 Axes>"
      ]
     },
     "metadata": {
      "needs_background": "light"
     },
     "output_type": "display_data"
    }
   ],
   "source": [
    "sns.scatterplot(y,x,data=final_df)\n",
    "plt.ylim(0,1000000)"
   ]
  },
  {
   "cell_type": "code",
   "execution_count": 14,
   "metadata": {},
   "outputs": [
    {
     "data": {
      "text/plain": [
       "'\\nAge and mileage should be directly correlated\\nCheck normal distribution curve per brand\\n'"
      ]
     },
     "execution_count": 14,
     "metadata": {},
     "output_type": "execute_result"
    }
   ],
   "source": [
    "\"\"\"\n",
    "Age and mileage should be directly correlated\n",
    "Check normal distribution curve per brand\n",
    "\"\"\""
   ]
  },
  {
   "cell_type": "code",
   "execution_count": 15,
   "metadata": {},
   "outputs": [],
   "source": [
    "x_val_trim=x_val[x_val<500000]\n",
    "y_val_trim=y_val[x_val<500000]"
   ]
  },
  {
   "cell_type": "code",
   "execution_count": 16,
   "metadata": {},
   "outputs": [
    {
     "data": {
      "image/png": "[encoded data removed]",
      "text/plain": [
       "<Figure size 432x288 with 1 Axes>"
      ]
     },
     "metadata": {
      "needs_background": "light"
     },
     "output_type": "display_data"
    }
   ],
   "source": [
    "sns.regplot(y_val_trim,x_val_trim,data=final_df)\n",
    "slope, intercept, r_value, p_value, std_err = stats.linregress(y_val_trim,x_val_trim)"
   ]
  },
  {
   "cell_type": "code",
   "execution_count": 17,
   "metadata": {},
   "outputs": [
    {
     "name": "stdout",
     "output_type": "stream",
     "text": [
      "5761.036357550956\n",
      "0.0\n"
     ]
    }
   ],
   "source": [
    "print(slope)\n",
    "print(p_value)"
   ]
  },
  {
   "cell_type": "markdown",
   "metadata": {},
   "source": [
    "## Impute Mileage Using KNN"
   ]
  },
  {
   "cell_type": "code",
   "execution_count": 18,
   "metadata": {},
   "outputs": [],
   "source": [
    "#gets the age of car with no null values in the mileage\n",
    "X=pd.DataFrame(final_df['age_of_car'].loc[final_df['Mileage (in km)'].notnull()])\n",
    "#gets the age of car with null values in the mileage\n",
    "X_null=pd.DataFrame(final_df['age_of_car'].loc[final_df['Mileage (in km)'].isnull()])\n",
    "#gets the mileage with no null values in the mileage\n",
    "y=pd.DataFrame(final_df['Mileage (in km)'].loc[final_df['Mileage (in km)'].notnull()])\n",
    "#gets the mileage with null values in the mileage\n",
    "y_null=pd.DataFrame(final_df['Mileage (in km)'].loc[final_df['Mileage (in km)'].isnull()])"
   ]
  },
  {
   "cell_type": "code",
   "execution_count": 19,
   "metadata": {},
   "outputs": [],
   "source": [
    "#might have to double check the neighbors\n",
    "clf=KNeighborsRegressor(3,weights='distance')\n",
    "trained_model=clf.fit(X,y)"
   ]
  },
  {
   "cell_type": "code",
   "execution_count": 20,
   "metadata": {},
   "outputs": [],
   "source": [
    "#predicting imputed values and setting the index to match the X_null dataframe\n",
    "imputed_val=pd.DataFrame(trained_model.predict(X_null),columns=['Mileage (in km)'])\n",
    "X_null.reset_index(inplace=True)"
   ]
  },
  {
   "cell_type": "code",
   "execution_count": 22,
   "metadata": {},
   "outputs": [
    {
     "data": {
      "text/html": [
       "<div>\n",
       "<style scoped>\n",
       "    .dataframe tbody tr th:only-of-type {\n",
       "        vertical-align: middle;\n",
       "    }\n",
       "\n",
       "    .dataframe tbody tr th {\n",
       "        vertical-align: top;\n",
       "    }\n",
       "\n",
       "    .dataframe thead th {\n",
       "        text-align: right;\n",
       "    }\n",
       "</style>\n",
       "<table border=\"1\" class=\"dataframe\">\n",
       "  <thead>\n",
       "    <tr style=\"text-align: right;\">\n",
       "      <th></th>\n",
       "      <th>key_0</th>\n",
       "      <th>index</th>\n",
       "      <th>age_of_car</th>\n",
       "      <th>Mileage (in km)</th>\n",
       "    </tr>\n",
       "  </thead>\n",
       "  <tbody>\n",
       "    <tr>\n",
       "      <td>0</td>\n",
       "      <td>0</td>\n",
       "      <td>1</td>\n",
       "      <td>3</td>\n",
       "      <td>18333.333333</td>\n",
       "    </tr>\n",
       "    <tr>\n",
       "      <td>1</td>\n",
       "      <td>1</td>\n",
       "      <td>197</td>\n",
       "      <td>11</td>\n",
       "      <td>90000.000000</td>\n",
       "    </tr>\n",
       "    <tr>\n",
       "      <td>2</td>\n",
       "      <td>2</td>\n",
       "      <td>199</td>\n",
       "      <td>0</td>\n",
       "      <td>4349.000000</td>\n",
       "    </tr>\n",
       "    <tr>\n",
       "      <td>3</td>\n",
       "      <td>3</td>\n",
       "      <td>207</td>\n",
       "      <td>1</td>\n",
       "      <td>12666.666667</td>\n",
       "    </tr>\n",
       "    <tr>\n",
       "      <td>4</td>\n",
       "      <td>4</td>\n",
       "      <td>209</td>\n",
       "      <td>1</td>\n",
       "      <td>12666.666667</td>\n",
       "    </tr>\n",
       "    <tr>\n",
       "      <td>...</td>\n",
       "      <td>...</td>\n",
       "      <td>...</td>\n",
       "      <td>...</td>\n",
       "      <td>...</td>\n",
       "    </tr>\n",
       "    <tr>\n",
       "      <td>2134</td>\n",
       "      <td>2134</td>\n",
       "      <td>12506</td>\n",
       "      <td>22</td>\n",
       "      <td>128000.000000</td>\n",
       "    </tr>\n",
       "    <tr>\n",
       "      <td>2135</td>\n",
       "      <td>2135</td>\n",
       "      <td>12523</td>\n",
       "      <td>5</td>\n",
       "      <td>51000.000000</td>\n",
       "    </tr>\n",
       "    <tr>\n",
       "      <td>2136</td>\n",
       "      <td>2136</td>\n",
       "      <td>12525</td>\n",
       "      <td>6</td>\n",
       "      <td>70666.666667</td>\n",
       "    </tr>\n",
       "    <tr>\n",
       "      <td>2137</td>\n",
       "      <td>2137</td>\n",
       "      <td>12529</td>\n",
       "      <td>21</td>\n",
       "      <td>96666.666667</td>\n",
       "    </tr>\n",
       "    <tr>\n",
       "      <td>2138</td>\n",
       "      <td>2138</td>\n",
       "      <td>12532</td>\n",
       "      <td>0</td>\n",
       "      <td>4349.000000</td>\n",
       "    </tr>\n",
       "  </tbody>\n",
       "</table>\n",
       "<p>2139 rows × 4 columns</p>\n",
       "</div>"
      ],
      "text/plain": [
       "      key_0  index  age_of_car  Mileage (in km)\n",
       "0         0      1           3     18333.333333\n",
       "1         1    197          11     90000.000000\n",
       "2         2    199           0      4349.000000\n",
       "3         3    207           1     12666.666667\n",
       "4         4    209           1     12666.666667\n",
       "...     ...    ...         ...              ...\n",
       "2134   2134  12506          22    128000.000000\n",
       "2135   2135  12523           5     51000.000000\n",
       "2136   2136  12525           6     70666.666667\n",
       "2137   2137  12529          21     96666.666667\n",
       "2138   2138  12532           0      4349.000000\n",
       "\n",
       "[2139 rows x 4 columns]"
      ]
     },
     "execution_count": 22,
     "metadata": {},
     "output_type": "execute_result"
    }
   ],
   "source": [
    "pd.merge(X_null,imputed_val,how='outer',on=X_null.index)"
   ]
  },
  {
   "cell_type": "code",
   "execution_count": 19,
   "metadata": {},
   "outputs": [],
   "source": [
    "#merge imputed values with your Yr of Manufacture pair\n",
    "null_merged=pd.merge(X_null,imputed_val,how='outer',on=X_null.index)\n",
    "#deleted useless key column that came from  the mileage dataframe\n",
    "null_merged.drop('key_0',inplace=True,axis=1)\n",
    "#index of Yr of Manufacture is set as the index\n",
    "null_merged.set_index('index',inplace=True)"
   ]
  },
  {
   "cell_type": "code",
   "execution_count": 20,
   "metadata": {},
   "outputs": [
    {
     "data": {
      "text/html": [
       "<div>\n",
       "<style scoped>\n",
       "    .dataframe tbody tr th:only-of-type {\n",
       "        vertical-align: middle;\n",
       "    }\n",
       "\n",
       "    .dataframe tbody tr th {\n",
       "        vertical-align: top;\n",
       "    }\n",
       "\n",
       "    .dataframe thead th {\n",
       "        text-align: right;\n",
       "    }\n",
       "</style>\n",
       "<table border=\"1\" class=\"dataframe\">\n",
       "  <thead>\n",
       "    <tr style=\"text-align: right;\">\n",
       "      <th></th>\n",
       "      <th>age_of_car</th>\n",
       "      <th>Mileage (in km)</th>\n",
       "    </tr>\n",
       "  </thead>\n",
       "  <tbody>\n",
       "    <tr>\n",
       "      <td>1</td>\n",
       "      <td>3</td>\n",
       "      <td>18333.333333</td>\n",
       "    </tr>\n",
       "    <tr>\n",
       "      <td>3</td>\n",
       "      <td>3</td>\n",
       "      <td>6000.000000</td>\n",
       "    </tr>\n",
       "    <tr>\n",
       "      <td>5</td>\n",
       "      <td>4</td>\n",
       "      <td>60000.000000</td>\n",
       "    </tr>\n",
       "    <tr>\n",
       "      <td>7</td>\n",
       "      <td>3</td>\n",
       "      <td>40000.000000</td>\n",
       "    </tr>\n",
       "    <tr>\n",
       "      <td>14</td>\n",
       "      <td>4</td>\n",
       "      <td>15000.000000</td>\n",
       "    </tr>\n",
       "  </tbody>\n",
       "</table>\n",
       "</div>"
      ],
      "text/plain": [
       "    age_of_car  Mileage (in km)\n",
       "1            3     18333.333333\n",
       "3            3      6000.000000\n",
       "5            4     60000.000000\n",
       "7            3     40000.000000\n",
       "14           4     15000.000000"
      ]
     },
     "execution_count": 20,
     "metadata": {},
     "output_type": "execute_result"
    }
   ],
   "source": [
    "# merged them all together (Yr of Manufacture and Mileage) non null records\n",
    "xy_merged=pd.concat([X,y],axis=1)\n",
    "# merged the non nulls with the imputed or previous nulls\n",
    "merged_df=pd.concat([null_merged,xy_merged],axis=0)\n",
    "# rearranged indedx so it's prettier\n",
    "merged_df=merged_df.sort_index()\n",
    "merged_df.head()"
   ]
  },
  {
   "cell_type": "code",
   "execution_count": 23,
   "metadata": {},
   "outputs": [
    {
     "name": "stdout",
     "output_type": "stream",
     "text": [
      "<class 'pandas.core.frame.DataFrame'>\n",
      "Int64Index: 14307 entries, 1 to 20087\n",
      "Data columns (total 2 columns):\n",
      "age_of_car         14307 non-null int64\n",
      "Mileage (in km)    14307 non-null float64\n",
      "dtypes: float64(1), int64(1)\n",
      "memory usage: 335.3 KB\n"
     ]
    }
   ],
   "source": [
    "merged_df.info()"
   ]
  },
  {
   "cell_type": "code",
   "execution_count": 23,
   "metadata": {},
   "outputs": [
    {
     "data": {
      "text/html": [
       "<div>\n",
       "<style scoped>\n",
       "    .dataframe tbody tr th:only-of-type {\n",
       "        vertical-align: middle;\n",
       "    }\n",
       "\n",
       "    .dataframe tbody tr th {\n",
       "        vertical-align: top;\n",
       "    }\n",
       "\n",
       "    .dataframe thead th {\n",
       "        text-align: right;\n",
       "    }\n",
       "</style>\n",
       "<table border=\"1\" class=\"dataframe\">\n",
       "  <thead>\n",
       "    <tr style=\"text-align: right;\">\n",
       "      <th></th>\n",
       "      <th>id</th>\n",
       "      <th>price</th>\n",
       "      <th>brand</th>\n",
       "      <th>model</th>\n",
       "      <th>transmission</th>\n",
       "      <th>color</th>\n",
       "      <th>body_type</th>\n",
       "      <th>poster_type</th>\n",
       "      <th>fuel_type</th>\n",
       "      <th>location</th>\n",
       "      <th>retail</th>\n",
       "      <th>post_age_in_days</th>\n",
       "      <th>age_of_car</th>\n",
       "      <th>mileage_in_km</th>\n",
       "    </tr>\n",
       "  </thead>\n",
       "  <tbody>\n",
       "    <tr>\n",
       "      <td>0</td>\n",
       "      <td>CAR000002</td>\n",
       "      <td>828000</td>\n",
       "      <td>Chevrolet</td>\n",
       "      <td>Captiva</td>\n",
       "      <td>Automatic</td>\n",
       "      <td>Brown</td>\n",
       "      <td>SUV</td>\n",
       "      <td>Dealer</td>\n",
       "      <td>Diesel</td>\n",
       "      <td>Manila</td>\n",
       "      <td>1313888</td>\n",
       "      <td>15</td>\n",
       "      <td>3</td>\n",
       "      <td>18333.333333</td>\n",
       "    </tr>\n",
       "    <tr>\n",
       "      <td>1</td>\n",
       "      <td>CAR000004</td>\n",
       "      <td>450000</td>\n",
       "      <td>Chevrolet</td>\n",
       "      <td>Sail</td>\n",
       "      <td>Automatic</td>\n",
       "      <td>White</td>\n",
       "      <td>Saloon / Sedan</td>\n",
       "      <td>Individual</td>\n",
       "      <td>Gasoline</td>\n",
       "      <td>Quezon City</td>\n",
       "      <td>791888</td>\n",
       "      <td>20</td>\n",
       "      <td>3</td>\n",
       "      <td>6000.000000</td>\n",
       "    </tr>\n",
       "    <tr>\n",
       "      <td>2</td>\n",
       "      <td>CAR000006</td>\n",
       "      <td>850000</td>\n",
       "      <td>Chevrolet</td>\n",
       "      <td>Captiva</td>\n",
       "      <td>Shiftable Automatic</td>\n",
       "      <td>Black</td>\n",
       "      <td>SUV</td>\n",
       "      <td>Individual</td>\n",
       "      <td>Diesel</td>\n",
       "      <td>Makati</td>\n",
       "      <td>1313888</td>\n",
       "      <td>16</td>\n",
       "      <td>4</td>\n",
       "      <td>60000.000000</td>\n",
       "    </tr>\n",
       "    <tr>\n",
       "      <td>3</td>\n",
       "      <td>CAR000008</td>\n",
       "      <td>700000</td>\n",
       "      <td>Chevrolet</td>\n",
       "      <td>Trailblazer</td>\n",
       "      <td>Shiftable Automatic</td>\n",
       "      <td>White</td>\n",
       "      <td>SUV</td>\n",
       "      <td>Individual</td>\n",
       "      <td>Diesel</td>\n",
       "      <td>Manila</td>\n",
       "      <td>1618888</td>\n",
       "      <td>17</td>\n",
       "      <td>3</td>\n",
       "      <td>40000.000000</td>\n",
       "    </tr>\n",
       "    <tr>\n",
       "      <td>4</td>\n",
       "      <td>CAR000015</td>\n",
       "      <td>829000</td>\n",
       "      <td>Chevrolet</td>\n",
       "      <td>Trailblazer</td>\n",
       "      <td>Automatic</td>\n",
       "      <td>White</td>\n",
       "      <td>SUV</td>\n",
       "      <td>Individual</td>\n",
       "      <td>Diesel</td>\n",
       "      <td>Norzagaray</td>\n",
       "      <td>1618888</td>\n",
       "      <td>34</td>\n",
       "      <td>4</td>\n",
       "      <td>15000.000000</td>\n",
       "    </tr>\n",
       "  </tbody>\n",
       "</table>\n",
       "</div>"
      ],
      "text/plain": [
       "          id   price      brand        model         transmission  color  \\\n",
       "0  CAR000002  828000  Chevrolet      Captiva            Automatic  Brown   \n",
       "1  CAR000004  450000  Chevrolet         Sail            Automatic  White   \n",
       "2  CAR000006  850000  Chevrolet      Captiva  Shiftable Automatic  Black   \n",
       "3  CAR000008  700000  Chevrolet  Trailblazer  Shiftable Automatic  White   \n",
       "4  CAR000015  829000  Chevrolet  Trailblazer            Automatic  White   \n",
       "\n",
       "        body_type poster_type fuel_type     location   retail  \\\n",
       "0             SUV      Dealer    Diesel       Manila  1313888   \n",
       "1  Saloon / Sedan  Individual  Gasoline  Quezon City   791888   \n",
       "2             SUV  Individual    Diesel       Makati  1313888   \n",
       "3             SUV  Individual    Diesel       Manila  1618888   \n",
       "4             SUV  Individual    Diesel   Norzagaray  1618888   \n",
       "\n",
       "   post_age_in_days  age_of_car  mileage_in_km  \n",
       "0                15           3   18333.333333  \n",
       "1                20           3    6000.000000  \n",
       "2                16           4   60000.000000  \n",
       "3                17           3   40000.000000  \n",
       "4                34           4   15000.000000  "
      ]
     },
     "execution_count": 23,
     "metadata": {},
     "output_type": "execute_result"
    }
   ],
   "source": [
    "# merge it with the whole df but original null mileage and age is still there\n",
    "total_merge = pd.merge(final_df,merged_df,on=final_df.index)\n",
    "# dropped the original null mileage and age. The new boys are in town!\n",
    "total_merge.drop(['age_of_car_x','Mileage (in km)_x','key_0'],axis=1,inplace=True)\n",
    "#renamed them\n",
    "total_merge.columns=['id','price','brand','model','transmission','color','body_type','poster_type','fuel_type','location','retail','post_age_in_days','age_of_car','mileage_in_km']\n",
    "total_merge.head()"
   ]
  },
  {
   "cell_type": "markdown",
   "metadata": {},
   "source": [
    "## Time to change categorical values to numerical..."
   ]
  },
  {
   "cell_type": "code",
   "execution_count": 24,
   "metadata": {},
   "outputs": [
    {
     "name": "stdout",
     "output_type": "stream",
     "text": [
      "<class 'pandas.core.frame.DataFrame'>\n",
      "Int64Index: 8007 entries, 0 to 8006\n",
      "Data columns (total 14 columns):\n",
      "id                  8007 non-null object\n",
      "price               8007 non-null int64\n",
      "brand               8007 non-null object\n",
      "model               8007 non-null object\n",
      "transmission        8007 non-null object\n",
      "color               8007 non-null object\n",
      "body_type           8007 non-null object\n",
      "poster_type         8007 non-null object\n",
      "fuel_type           8007 non-null object\n",
      "location            8007 non-null object\n",
      "retail              8007 non-null int64\n",
      "post_age_in_days    8007 non-null int64\n",
      "age_of_car          8007 non-null int64\n",
      "mileage_in_km       8007 non-null float64\n",
      "dtypes: float64(1), int64(4), object(9)\n",
      "memory usage: 938.3+ KB\n"
     ]
    }
   ],
   "source": [
    "total_merge.info()\n",
    "#object means it's a categorical value or text"
   ]
  },
  {
   "cell_type": "code",
   "execution_count": 26,
   "metadata": {},
   "outputs": [],
   "source": [
    "#used label encoder to change cat to num\n",
    "le = preprocessing.LabelEncoder()"
   ]
  },
  {
   "cell_type": "code",
   "execution_count": 27,
   "metadata": {},
   "outputs": [],
   "source": [
    "# set it in the column itself to transform the dataframe into numbers and also making a dictionary so you can \"unlock\" the encoder with categorical values=\n",
    "tm_col = ['brand','model','transmission','color','body_type','poster_type','fuel_type','location']\n",
    "le_classes = {}\n",
    "for col in tm_col:\n",
    "    total_merge[col]=le.fit_transform(total_merge[col])\n",
    "    le_classes.update({col: {le.classes_[n]:n for n in range(len(le.classes_))}})"
   ]
  },
  {
   "cell_type": "code",
   "execution_count": 30,
   "metadata": {},
   "outputs": [
    {
     "ename": "KeyError",
     "evalue": "\"None of ['id'] are in the columns\"",
     "output_type": "error",
     "traceback": [
      "\u001b[0;31m---------------------------------------------------------------------------\u001b[0m",
      "\u001b[0;31mKeyError\u001b[0m                                  Traceback (most recent call last)",
      "\u001b[0;32m<ipython-input-30-ac5745934a57>\u001b[0m in \u001b[0;36m<module>\u001b[0;34m\u001b[0m\n\u001b[1;32m      1\u001b[0m \u001b[0;31m#made the dataframe prettier by moving the id as index and deleting that pesky id title\u001b[0m\u001b[0;34m\u001b[0m\u001b[0;34m\u001b[0m\u001b[0;34m\u001b[0m\u001b[0m\n\u001b[0;32m----> 2\u001b[0;31m \u001b[0mtotal_merge\u001b[0m\u001b[0;34m.\u001b[0m\u001b[0mset_index\u001b[0m\u001b[0;34m(\u001b[0m\u001b[0;34m'id'\u001b[0m\u001b[0;34m,\u001b[0m\u001b[0minplace\u001b[0m\u001b[0;34m=\u001b[0m\u001b[0;32mTrue\u001b[0m\u001b[0;34m)\u001b[0m\u001b[0;34m\u001b[0m\u001b[0;34m\u001b[0m\u001b[0m\n\u001b[0m\u001b[1;32m      3\u001b[0m \u001b[0mtotal_merge\u001b[0m\u001b[0;34m.\u001b[0m\u001b[0mrename_axis\u001b[0m\u001b[0;34m(\u001b[0m\u001b[0mindex\u001b[0m\u001b[0;34m=\u001b[0m\u001b[0;32mNone\u001b[0m\u001b[0;34m,\u001b[0m\u001b[0minplace\u001b[0m\u001b[0;34m=\u001b[0m\u001b[0;32mTrue\u001b[0m\u001b[0;34m)\u001b[0m\u001b[0;34m\u001b[0m\u001b[0;34m\u001b[0m\u001b[0m\n\u001b[1;32m      4\u001b[0m \u001b[0mtotal_merge\u001b[0m\u001b[0;34m.\u001b[0m\u001b[0mhead\u001b[0m\u001b[0;34m(\u001b[0m\u001b[0;34m)\u001b[0m\u001b[0;34m\u001b[0m\u001b[0;34m\u001b[0m\u001b[0m\n",
      "\u001b[0;32m~/opt/anaconda3/lib/python3.7/site-packages/pandas/core/frame.py\u001b[0m in \u001b[0;36mset_index\u001b[0;34m(self, keys, drop, append, inplace, verify_integrity)\u001b[0m\n\u001b[1;32m   4394\u001b[0m \u001b[0;34m\u001b[0m\u001b[0m\n\u001b[1;32m   4395\u001b[0m         \u001b[0;32mif\u001b[0m \u001b[0mmissing\u001b[0m\u001b[0;34m:\u001b[0m\u001b[0;34m\u001b[0m\u001b[0;34m\u001b[0m\u001b[0m\n\u001b[0;32m-> 4396\u001b[0;31m             \u001b[0;32mraise\u001b[0m \u001b[0mKeyError\u001b[0m\u001b[0;34m(\u001b[0m\u001b[0;34m\"None of {} are in the columns\"\u001b[0m\u001b[0;34m.\u001b[0m\u001b[0mformat\u001b[0m\u001b[0;34m(\u001b[0m\u001b[0mmissing\u001b[0m\u001b[0;34m)\u001b[0m\u001b[0;34m)\u001b[0m\u001b[0;34m\u001b[0m\u001b[0;34m\u001b[0m\u001b[0m\n\u001b[0m\u001b[1;32m   4397\u001b[0m \u001b[0;34m\u001b[0m\u001b[0m\n\u001b[1;32m   4398\u001b[0m         \u001b[0;32mif\u001b[0m \u001b[0minplace\u001b[0m\u001b[0;34m:\u001b[0m\u001b[0;34m\u001b[0m\u001b[0;34m\u001b[0m\u001b[0m\n",
      "\u001b[0;31mKeyError\u001b[0m: \"None of ['id'] are in the columns\""
     ]
    }
   ],
   "source": [
    "#made the dataframe prettier by moving the id as index and deleting that pesky id title\n",
    "total_merge.set_index('id',inplace=True)\n",
    "total_merge.rename_axis(index=None,inplace=True)\n",
    "total_merge.head()"
   ]
  },
  {
   "cell_type": "code",
   "execution_count": 29,
   "metadata": {},
   "outputs": [],
   "source": [
    "# I just reassigned just cause lol\n",
    "final_df=total_merge.copy()"
   ]
  },
  {
   "cell_type": "code",
   "execution_count": 32,
   "metadata": {},
   "outputs": [
    {
     "data": {
      "text/html": [
       "<div>\n",
       "<style scoped>\n",
       "    .dataframe tbody tr th:only-of-type {\n",
       "        vertical-align: middle;\n",
       "    }\n",
       "\n",
       "    .dataframe tbody tr th {\n",
       "        vertical-align: top;\n",
       "    }\n",
       "\n",
       "    .dataframe thead th {\n",
       "        text-align: right;\n",
       "    }\n",
       "</style>\n",
       "<table border=\"1\" class=\"dataframe\">\n",
       "  <thead>\n",
       "    <tr style=\"text-align: right;\">\n",
       "      <th></th>\n",
       "      <th>price</th>\n",
       "      <th>brand</th>\n",
       "      <th>model</th>\n",
       "      <th>transmission</th>\n",
       "      <th>color</th>\n",
       "      <th>body_type</th>\n",
       "      <th>poster_type</th>\n",
       "      <th>fuel_type</th>\n",
       "      <th>location</th>\n",
       "      <th>retail</th>\n",
       "      <th>post_age_in_days</th>\n",
       "      <th>age_of_car</th>\n",
       "      <th>mileage_in_km</th>\n",
       "    </tr>\n",
       "  </thead>\n",
       "  <tbody>\n",
       "    <tr>\n",
       "      <td>CAR000002</td>\n",
       "      <td>828000</td>\n",
       "      <td>1</td>\n",
       "      <td>47</td>\n",
       "      <td>1</td>\n",
       "      <td>4</td>\n",
       "      <td>5</td>\n",
       "      <td>0</td>\n",
       "      <td>0</td>\n",
       "      <td>218</td>\n",
       "      <td>1313888</td>\n",
       "      <td>15</td>\n",
       "      <td>3</td>\n",
       "      <td>18333.333333</td>\n",
       "    </tr>\n",
       "    <tr>\n",
       "      <td>CAR000004</td>\n",
       "      <td>450000</td>\n",
       "      <td>1</td>\n",
       "      <td>146</td>\n",
       "      <td>1</td>\n",
       "      <td>17</td>\n",
       "      <td>6</td>\n",
       "      <td>1</td>\n",
       "      <td>2</td>\n",
       "      <td>276</td>\n",
       "      <td>791888</td>\n",
       "      <td>20</td>\n",
       "      <td>3</td>\n",
       "      <td>6000.000000</td>\n",
       "    </tr>\n",
       "    <tr>\n",
       "      <td>CAR000006</td>\n",
       "      <td>850000</td>\n",
       "      <td>1</td>\n",
       "      <td>47</td>\n",
       "      <td>4</td>\n",
       "      <td>1</td>\n",
       "      <td>5</td>\n",
       "      <td>1</td>\n",
       "      <td>0</td>\n",
       "      <td>205</td>\n",
       "      <td>1313888</td>\n",
       "      <td>16</td>\n",
       "      <td>4</td>\n",
       "      <td>60000.000000</td>\n",
       "    </tr>\n",
       "    <tr>\n",
       "      <td>CAR000008</td>\n",
       "      <td>700000</td>\n",
       "      <td>1</td>\n",
       "      <td>163</td>\n",
       "      <td>4</td>\n",
       "      <td>17</td>\n",
       "      <td>5</td>\n",
       "      <td>1</td>\n",
       "      <td>0</td>\n",
       "      <td>218</td>\n",
       "      <td>1618888</td>\n",
       "      <td>17</td>\n",
       "      <td>3</td>\n",
       "      <td>40000.000000</td>\n",
       "    </tr>\n",
       "    <tr>\n",
       "      <td>CAR000015</td>\n",
       "      <td>829000</td>\n",
       "      <td>1</td>\n",
       "      <td>163</td>\n",
       "      <td>1</td>\n",
       "      <td>17</td>\n",
       "      <td>5</td>\n",
       "      <td>1</td>\n",
       "      <td>0</td>\n",
       "      <td>236</td>\n",
       "      <td>1618888</td>\n",
       "      <td>34</td>\n",
       "      <td>4</td>\n",
       "      <td>15000.000000</td>\n",
       "    </tr>\n",
       "  </tbody>\n",
       "</table>\n",
       "</div>"
      ],
      "text/plain": [
       "            price  brand  model  transmission  color  body_type  poster_type  \\\n",
       "CAR000002  828000      1     47             1      4          5            0   \n",
       "CAR000004  450000      1    146             1     17          6            1   \n",
       "CAR000006  850000      1     47             4      1          5            1   \n",
       "CAR000008  700000      1    163             4     17          5            1   \n",
       "CAR000015  829000      1    163             1     17          5            1   \n",
       "\n",
       "           fuel_type  location   retail  post_age_in_days  age_of_car  \\\n",
       "CAR000002          0       218  1313888                15           3   \n",
       "CAR000004          2       276   791888                20           3   \n",
       "CAR000006          0       205  1313888                16           4   \n",
       "CAR000008          0       218  1618888                17           3   \n",
       "CAR000015          0       236  1618888                34           4   \n",
       "\n",
       "           mileage_in_km  \n",
       "CAR000002   18333.333333  \n",
       "CAR000004    6000.000000  \n",
       "CAR000006   60000.000000  \n",
       "CAR000008   40000.000000  \n",
       "CAR000015   15000.000000  "
      ]
     },
     "execution_count": 32,
     "metadata": {},
     "output_type": "execute_result"
    }
   ],
   "source": [
    "final_df.head()"
   ]
  },
  {
   "cell_type": "code",
   "execution_count": 31,
   "metadata": {},
   "outputs": [],
   "source": [
    "final_df.to_csv(\"capstone_dataset.csv\")"
   ]
  },
  {
   "cell_type": "markdown",
   "metadata": {},
   "source": [
    "## Maybe we can try imputing Mileage using median... Next time na lang haha"
   ]
  },
  {
   "cell_type": "code",
   "execution_count": 32,
   "metadata": {},
   "outputs": [],
   "source": [
    "#final_df['mileage_in_km'].fillna(final_df.groupby('year_of_manufacture')['mileage_in_km'].transform('median'),inplace=True)"
   ]
  },
  {
   "cell_type": "code",
   "execution_count": 33,
   "metadata": {},
   "outputs": [],
   "source": [
    "#final_df['mileage_in_km'].fillna(final_df['mileage_in_km'].median(),inplace=True)"
   ]
  },
  {
   "cell_type": "code",
   "execution_count": 34,
   "metadata": {},
   "outputs": [],
   "source": [
    "#final_df[['mileage_in_km']].head()"
   ]
  },
  {
   "cell_type": "markdown",
   "metadata": {},
   "source": [
    "## Model"
   ]
  },
  {
   "cell_type": "markdown",
   "metadata": {},
   "source": [
    "## It's time for Decision Trees?! So we know how they split </3"
   ]
  },
  {
   "cell_type": "code",
   "execution_count": 33,
   "metadata": {},
   "outputs": [],
   "source": [
    "# Assigned features except for price to X and assigned price to y\n",
    "X=final_df.drop(['price'],axis=1)\n",
    "y=final_df['price']"
   ]
  },
  {
   "cell_type": "code",
   "execution_count": 34,
   "metadata": {},
   "outputs": [
    {
     "data": {
      "text/html": [
       "<div>\n",
       "<style scoped>\n",
       "    .dataframe tbody tr th:only-of-type {\n",
       "        vertical-align: middle;\n",
       "    }\n",
       "\n",
       "    .dataframe tbody tr th {\n",
       "        vertical-align: top;\n",
       "    }\n",
       "\n",
       "    .dataframe thead th {\n",
       "        text-align: right;\n",
       "    }\n",
       "</style>\n",
       "<table border=\"1\" class=\"dataframe\">\n",
       "  <thead>\n",
       "    <tr style=\"text-align: right;\">\n",
       "      <th></th>\n",
       "      <th>brand</th>\n",
       "      <th>model</th>\n",
       "      <th>transmission</th>\n",
       "      <th>color</th>\n",
       "      <th>body_type</th>\n",
       "      <th>poster_type</th>\n",
       "      <th>fuel_type</th>\n",
       "      <th>location</th>\n",
       "      <th>retail</th>\n",
       "      <th>post_age_in_days</th>\n",
       "      <th>age_of_car</th>\n",
       "      <th>mileage_in_km</th>\n",
       "    </tr>\n",
       "  </thead>\n",
       "  <tbody>\n",
       "    <tr>\n",
       "      <td>CAR000002</td>\n",
       "      <td>1</td>\n",
       "      <td>47</td>\n",
       "      <td>1</td>\n",
       "      <td>4</td>\n",
       "      <td>5</td>\n",
       "      <td>0</td>\n",
       "      <td>0</td>\n",
       "      <td>218</td>\n",
       "      <td>1313888</td>\n",
       "      <td>15</td>\n",
       "      <td>3</td>\n",
       "      <td>18333.333333</td>\n",
       "    </tr>\n",
       "    <tr>\n",
       "      <td>CAR000004</td>\n",
       "      <td>1</td>\n",
       "      <td>146</td>\n",
       "      <td>1</td>\n",
       "      <td>17</td>\n",
       "      <td>6</td>\n",
       "      <td>1</td>\n",
       "      <td>2</td>\n",
       "      <td>276</td>\n",
       "      <td>791888</td>\n",
       "      <td>20</td>\n",
       "      <td>3</td>\n",
       "      <td>6000.000000</td>\n",
       "    </tr>\n",
       "    <tr>\n",
       "      <td>CAR000006</td>\n",
       "      <td>1</td>\n",
       "      <td>47</td>\n",
       "      <td>4</td>\n",
       "      <td>1</td>\n",
       "      <td>5</td>\n",
       "      <td>1</td>\n",
       "      <td>0</td>\n",
       "      <td>205</td>\n",
       "      <td>1313888</td>\n",
       "      <td>16</td>\n",
       "      <td>4</td>\n",
       "      <td>60000.000000</td>\n",
       "    </tr>\n",
       "    <tr>\n",
       "      <td>CAR000008</td>\n",
       "      <td>1</td>\n",
       "      <td>163</td>\n",
       "      <td>4</td>\n",
       "      <td>17</td>\n",
       "      <td>5</td>\n",
       "      <td>1</td>\n",
       "      <td>0</td>\n",
       "      <td>218</td>\n",
       "      <td>1618888</td>\n",
       "      <td>17</td>\n",
       "      <td>3</td>\n",
       "      <td>40000.000000</td>\n",
       "    </tr>\n",
       "    <tr>\n",
       "      <td>CAR000015</td>\n",
       "      <td>1</td>\n",
       "      <td>163</td>\n",
       "      <td>1</td>\n",
       "      <td>17</td>\n",
       "      <td>5</td>\n",
       "      <td>1</td>\n",
       "      <td>0</td>\n",
       "      <td>236</td>\n",
       "      <td>1618888</td>\n",
       "      <td>34</td>\n",
       "      <td>4</td>\n",
       "      <td>15000.000000</td>\n",
       "    </tr>\n",
       "  </tbody>\n",
       "</table>\n",
       "</div>"
      ],
      "text/plain": [
       "           brand  model  transmission  color  body_type  poster_type  \\\n",
       "CAR000002      1     47             1      4          5            0   \n",
       "CAR000004      1    146             1     17          6            1   \n",
       "CAR000006      1     47             4      1          5            1   \n",
       "CAR000008      1    163             4     17          5            1   \n",
       "CAR000015      1    163             1     17          5            1   \n",
       "\n",
       "           fuel_type  location   retail  post_age_in_days  age_of_car  \\\n",
       "CAR000002          0       218  1313888                15           3   \n",
       "CAR000004          2       276   791888                20           3   \n",
       "CAR000006          0       205  1313888                16           4   \n",
       "CAR000008          0       218  1618888                17           3   \n",
       "CAR000015          0       236  1618888                34           4   \n",
       "\n",
       "           mileage_in_km  \n",
       "CAR000002   18333.333333  \n",
       "CAR000004    6000.000000  \n",
       "CAR000006   60000.000000  \n",
       "CAR000008   40000.000000  \n",
       "CAR000015   15000.000000  "
      ]
     },
     "execution_count": 34,
     "metadata": {},
     "output_type": "execute_result"
    }
   ],
   "source": [
    "X.head()"
   ]
  },
  {
   "cell_type": "code",
   "execution_count": 77,
   "metadata": {},
   "outputs": [],
   "source": [
    "# why did I use these parameters? I just guessed them 'cause any way I care more about random forest. Bahala si dec tree\n",
    "dec_tree=tree.DecisionTreeRegressor(min_samples_split=3, min_samples_leaf=5,max_depth=5,random_state=4)"
   ]
  },
  {
   "cell_type": "code",
   "execution_count": 78,
   "metadata": {},
   "outputs": [
    {
     "name": "stdout",
     "output_type": "stream",
     "text": [
      "0.6075000916391753\n"
     ]
    }
   ],
   "source": [
    "# checked to see reliability of our random dec tree. Not that reliable apparently lol.\n",
    "print(np.mean(cross_val_score(dec_tree,X,y_log,cv=5)))"
   ]
  },
  {
   "cell_type": "code",
   "execution_count": 79,
   "metadata": {},
   "outputs": [],
   "source": [
    "# data performed better because price is so large compared to the other X variables\n",
    "y_log=np.log(y)"
   ]
  },
  {
   "cell_type": "code",
   "execution_count": 80,
   "metadata": {},
   "outputs": [
    {
     "data": {
      "text/plain": [
       "((6005, 12), (2002, 12), (6005,), (2002,))"
      ]
     },
     "execution_count": 80,
     "metadata": {},
     "output_type": "execute_result"
    }
   ],
   "source": [
    "# set the train test split while using y_log as part of it.\n",
    "X_train, X_test, y_log_train, y_log_test = train_test_split(X, y_log, test_size=0.25,random_state=4)\n",
    "X_train.shape,X_test.shape,y_log_train.shape,y_log_test.shape"
   ]
  },
  {
   "cell_type": "code",
   "execution_count": 81,
   "metadata": {},
   "outputs": [
    {
     "data": {
      "text/plain": [
       "DecisionTreeRegressor(criterion='mse', max_depth=5, max_features=None,\n",
       "                      max_leaf_nodes=None, min_impurity_decrease=0.0,\n",
       "                      min_impurity_split=None, min_samples_leaf=5,\n",
       "                      min_samples_split=3, min_weight_fraction_leaf=0.0,\n",
       "                      presort=False, random_state=4, splitter='best')"
      ]
     },
     "execution_count": 81,
     "metadata": {},
     "output_type": "execute_result"
    }
   ],
   "source": [
    "# fit decision tree train set\n",
    "dec_tree.fit(X_train,y_log_train)"
   ]
  },
  {
   "cell_type": "code",
   "execution_count": 82,
   "metadata": {},
   "outputs": [],
   "source": [
    "# I used the fitted decision tre to predict the log of the price\n",
    "y_pred=dec_tree.predict(X_test)"
   ]
  },
  {
   "cell_type": "code",
   "execution_count": 83,
   "metadata": {},
   "outputs": [
    {
     "data": {
      "text/plain": [
       "[<matplotlib.lines.Line2D at 0x1a2963fed0>]"
      ]
     },
     "execution_count": 83,
     "metadata": {},
     "output_type": "execute_result"
    },
    {
     "data": {
      "image/png": "[encoded data removed]",
      "text/plain": [
       "<Figure size 432x288 with 1 Axes>"
      ]
     },
     "metadata": {
      "needs_background": "light"
     },
     "output_type": "display_data"
    }
   ],
   "source": [
    "# plotted it to see how it compares with the actual values. This is for the decision tree model\n",
    "sns.scatterplot(y_log_test,y_pred)\n",
    "plt.xlabel('True Values')\n",
    "plt.ylabel('Predictions')\n",
    "plt.xlim(10,18)\n",
    "plt.ylim(10,18)\n",
    "vals = np.linspace(start = 0, stop = 18, num = 10)\n",
    "plt.plot(vals,vals,linestyle='--')"
   ]
  },
  {
   "cell_type": "code",
   "execution_count": 84,
   "metadata": {},
   "outputs": [
    {
     "data": {
      "text/html": [
       "<div>\n",
       "<style scoped>\n",
       "    .dataframe tbody tr th:only-of-type {\n",
       "        vertical-align: middle;\n",
       "    }\n",
       "\n",
       "    .dataframe tbody tr th {\n",
       "        vertical-align: top;\n",
       "    }\n",
       "\n",
       "    .dataframe thead th {\n",
       "        text-align: right;\n",
       "    }\n",
       "</style>\n",
       "<table border=\"1\" class=\"dataframe\">\n",
       "  <thead>\n",
       "    <tr style=\"text-align: right;\">\n",
       "      <th></th>\n",
       "      <th>price</th>\n",
       "      <th>brand</th>\n",
       "      <th>model</th>\n",
       "      <th>transmission</th>\n",
       "      <th>color</th>\n",
       "      <th>body_type</th>\n",
       "      <th>poster_type</th>\n",
       "      <th>fuel_type</th>\n",
       "      <th>location</th>\n",
       "      <th>retail</th>\n",
       "      <th>post_age_in_days</th>\n",
       "      <th>age_of_car</th>\n",
       "      <th>mileage_in_km</th>\n",
       "    </tr>\n",
       "  </thead>\n",
       "  <tbody>\n",
       "    <tr>\n",
       "      <td>CAR000002</td>\n",
       "      <td>828000</td>\n",
       "      <td>1</td>\n",
       "      <td>47</td>\n",
       "      <td>1</td>\n",
       "      <td>4</td>\n",
       "      <td>5</td>\n",
       "      <td>0</td>\n",
       "      <td>0</td>\n",
       "      <td>218</td>\n",
       "      <td>1313888</td>\n",
       "      <td>15</td>\n",
       "      <td>3</td>\n",
       "      <td>18333.333333</td>\n",
       "    </tr>\n",
       "    <tr>\n",
       "      <td>CAR000004</td>\n",
       "      <td>450000</td>\n",
       "      <td>1</td>\n",
       "      <td>146</td>\n",
       "      <td>1</td>\n",
       "      <td>17</td>\n",
       "      <td>6</td>\n",
       "      <td>1</td>\n",
       "      <td>2</td>\n",
       "      <td>276</td>\n",
       "      <td>791888</td>\n",
       "      <td>20</td>\n",
       "      <td>3</td>\n",
       "      <td>6000.000000</td>\n",
       "    </tr>\n",
       "    <tr>\n",
       "      <td>CAR000006</td>\n",
       "      <td>850000</td>\n",
       "      <td>1</td>\n",
       "      <td>47</td>\n",
       "      <td>4</td>\n",
       "      <td>1</td>\n",
       "      <td>5</td>\n",
       "      <td>1</td>\n",
       "      <td>0</td>\n",
       "      <td>205</td>\n",
       "      <td>1313888</td>\n",
       "      <td>16</td>\n",
       "      <td>4</td>\n",
       "      <td>60000.000000</td>\n",
       "    </tr>\n",
       "    <tr>\n",
       "      <td>CAR000008</td>\n",
       "      <td>700000</td>\n",
       "      <td>1</td>\n",
       "      <td>163</td>\n",
       "      <td>4</td>\n",
       "      <td>17</td>\n",
       "      <td>5</td>\n",
       "      <td>1</td>\n",
       "      <td>0</td>\n",
       "      <td>218</td>\n",
       "      <td>1618888</td>\n",
       "      <td>17</td>\n",
       "      <td>3</td>\n",
       "      <td>40000.000000</td>\n",
       "    </tr>\n",
       "    <tr>\n",
       "      <td>CAR000015</td>\n",
       "      <td>829000</td>\n",
       "      <td>1</td>\n",
       "      <td>163</td>\n",
       "      <td>1</td>\n",
       "      <td>17</td>\n",
       "      <td>5</td>\n",
       "      <td>1</td>\n",
       "      <td>0</td>\n",
       "      <td>236</td>\n",
       "      <td>1618888</td>\n",
       "      <td>34</td>\n",
       "      <td>4</td>\n",
       "      <td>15000.000000</td>\n",
       "    </tr>\n",
       "  </tbody>\n",
       "</table>\n",
       "</div>"
      ],
      "text/plain": [
       "            price  brand  model  transmission  color  body_type  poster_type  \\\n",
       "CAR000002  828000      1     47             1      4          5            0   \n",
       "CAR000004  450000      1    146             1     17          6            1   \n",
       "CAR000006  850000      1     47             4      1          5            1   \n",
       "CAR000008  700000      1    163             4     17          5            1   \n",
       "CAR000015  829000      1    163             1     17          5            1   \n",
       "\n",
       "           fuel_type  location   retail  post_age_in_days  age_of_car  \\\n",
       "CAR000002          0       218  1313888                15           3   \n",
       "CAR000004          2       276   791888                20           3   \n",
       "CAR000006          0       205  1313888                16           4   \n",
       "CAR000008          0       218  1618888                17           3   \n",
       "CAR000015          0       236  1618888                34           4   \n",
       "\n",
       "           mileage_in_km  \n",
       "CAR000002   18333.333333  \n",
       "CAR000004    6000.000000  \n",
       "CAR000006   60000.000000  \n",
       "CAR000008   40000.000000  \n",
       "CAR000015   15000.000000  "
      ]
     },
     "execution_count": 84,
     "metadata": {},
     "output_type": "execute_result"
    }
   ],
   "source": [
    "final_df.head()"
   ]
  },
  {
   "cell_type": "code",
   "execution_count": 88,
   "metadata": {},
   "outputs": [],
   "source": [
    "Xnew=[[23,132,1,2,3,1,2,121,900000,40,4,4500]]"
   ]
  },
  {
   "cell_type": "code",
   "execution_count": 89,
   "metadata": {},
   "outputs": [],
   "source": [
    "ynew_pred=dec_tree.predict(Xnew)"
   ]
  },
  {
   "cell_type": "code",
   "execution_count": 90,
   "metadata": {
    "scrolled": true
   },
   "outputs": [
    {
     "data": {
      "text/plain": [
       "array([688853.78568262])"
      ]
     },
     "execution_count": 90,
     "metadata": {},
     "output_type": "execute_result"
    }
   ],
   "source": [
    "np.exp(ynew_pred)"
   ]
  },
  {
   "cell_type": "code",
   "execution_count": 91,
   "metadata": {},
   "outputs": [
    {
     "data": {
      "text/plain": [
       "Index(['brand', 'model', 'transmission', 'color', 'body_type', 'poster_type',\n",
       "       'fuel_type', 'location', 'retail', 'post_age_in_days', 'age_of_car',\n",
       "       'mileage_in_km'],\n",
       "      dtype='object')"
      ]
     },
     "execution_count": 91,
     "metadata": {},
     "output_type": "execute_result"
    }
   ],
   "source": [
    "#time to do feature importance. set indep and dep vars appropriately\n",
    "feature='price'\n",
    "indepvar=final_df.drop('price',axis=1).columns\n",
    "indepvar"
   ]
  },
  {
   "cell_type": "code",
   "execution_count": 92,
   "metadata": {},
   "outputs": [],
   "source": [
    "# time for feature importance. Line below shows 0 is 50% important, 1 is 20% important but what is 0 and 1?\n",
    "f_importance = dec_tree.feature_importances_\n",
    "# f_list assigns the names of the indep variables so now we can say 0 is age so and so forth\n",
    "f_list=X_train.columns\n",
    "# this places it in a dataframe lang pinagsam yung nasa taas.\n",
    "df_feature_importance=pd.DataFrame(f_importance,columns=['importance'],index=f_list).sort_values(['importance'],ascending=False)"
   ]
  },
  {
   "cell_type": "code",
   "execution_count": 93,
   "metadata": {},
   "outputs": [
    {
     "data": {
      "text/plain": [
       "<matplotlib.axes._subplots.AxesSubplot at 0x1a296808d0>"
      ]
     },
     "execution_count": 93,
     "metadata": {},
     "output_type": "execute_result"
    },
    {
     "data": {
      "image/png": "[encoded data removed]",
      "text/plain": [
       "<Figure size 1008x360 with 1 Axes>"
      ]
     },
     "metadata": {
      "needs_background": "light"
     },
     "output_type": "display_data"
    }
   ],
   "source": [
    "#plot the feature importance\n",
    "fig, ax = plt.subplots(figsize=(14, 5))\n",
    "sns.barplot(df_feature_importance.index,df_feature_importance['importance'],data=df_feature_importance)\n",
    "# plt.rcParams.update({'font.size': 10})"
   ]
  },
  {
   "cell_type": "markdown",
   "metadata": {},
   "source": [
    "## Now that we have an idea on how the tree splits, let's try Random Forest"
   ]
  },
  {
   "cell_type": "code",
   "execution_count": 94,
   "metadata": {},
   "outputs": [],
   "source": [
    "from sklearn.ensemble import RandomForestRegressor"
   ]
  },
  {
   "cell_type": "code",
   "execution_count": 95,
   "metadata": {},
   "outputs": [],
   "source": [
    "rf = RandomForestRegressor(n_estimators=400,max_features=0.9157035175944501,min_samples_leaf=1,min_samples_split=5,oob_score=True,random_state=4)"
   ]
  },
  {
   "cell_type": "code",
   "execution_count": 96,
   "metadata": {},
   "outputs": [
    {
     "data": {
      "text/plain": [
       "RandomForestRegressor(bootstrap=True, criterion='mse', max_depth=None,\n",
       "                      max_features=0.9157035175944501, max_leaf_nodes=None,\n",
       "                      min_impurity_decrease=0.0, min_impurity_split=None,\n",
       "                      min_samples_leaf=1, min_samples_split=5,\n",
       "                      min_weight_fraction_leaf=0.0, n_estimators=400,\n",
       "                      n_jobs=None, oob_score=True, random_state=4, verbose=0,\n",
       "                      warm_start=False)"
      ]
     },
     "execution_count": 96,
     "metadata": {},
     "output_type": "execute_result"
    }
   ],
   "source": [
    "# fit the train set to the random forest model\n",
    "rf.fit(X_train, y_log_train)"
   ]
  },
  {
   "cell_type": "code",
   "execution_count": 97,
   "metadata": {},
   "outputs": [
    {
     "data": {
      "text/plain": [
       "array([ 213919.1375315 ,  390748.09607682,  551375.09395104, ...,\n",
       "        623603.79022162, 1284896.15287572,  668480.92242022])"
      ]
     },
     "execution_count": 97,
     "metadata": {},
     "output_type": "execute_result"
    }
   ],
   "source": [
    "# predicted values based on the fitted random forest\n",
    "y_pred=rf.predict(X_test)\n",
    "np.exp(y_pred)"
   ]
  },
  {
   "cell_type": "code",
   "execution_count": 98,
   "metadata": {},
   "outputs": [
    {
     "data": {
      "text/plain": [
       "[<matplotlib.lines.Line2D at 0x1a26bc4b50>]"
      ]
     },
     "execution_count": 98,
     "metadata": {},
     "output_type": "execute_result"
    },
    {
     "data": {
      "image/png": "[encoded data removed]",
      "text/plain": [
       "<Figure size 432x288 with 1 Axes>"
      ]
     },
     "metadata": {
      "needs_background": "light"
     },
     "output_type": "display_data"
    }
   ],
   "source": [
    "# This is plotting actual vs predicted based on random forest.\n",
    "sns.scatterplot(y_log_test,y_pred)\n",
    "plt.xlabel('True Values')\n",
    "plt.ylabel('Predictions')\n",
    "plt.xlim(10,18)\n",
    "plt.ylim(10,18)\n",
    "vals = np.linspace(start = 0, stop = 18, num = 10)\n",
    "plt.plot(vals,vals,linestyle='--')"
   ]
  },
  {
   "cell_type": "code",
   "execution_count": 99,
   "metadata": {},
   "outputs": [
    {
     "data": {
      "text/plain": [
       "0.7823556737224767"
      ]
     },
     "execution_count": 99,
     "metadata": {},
     "output_type": "execute_result"
    }
   ],
   "source": [
    "rf.oob_score_"
   ]
  },
  {
   "cell_type": "code",
   "execution_count": 100,
   "metadata": {},
   "outputs": [
    {
     "data": {
      "text/html": [
       "<div>\n",
       "<style scoped>\n",
       "    .dataframe tbody tr th:only-of-type {\n",
       "        vertical-align: middle;\n",
       "    }\n",
       "\n",
       "    .dataframe tbody tr th {\n",
       "        vertical-align: top;\n",
       "    }\n",
       "\n",
       "    .dataframe thead th {\n",
       "        text-align: right;\n",
       "    }\n",
       "</style>\n",
       "<table border=\"1\" class=\"dataframe\">\n",
       "  <thead>\n",
       "    <tr style=\"text-align: right;\">\n",
       "      <th></th>\n",
       "      <th>importance</th>\n",
       "    </tr>\n",
       "  </thead>\n",
       "  <tbody>\n",
       "    <tr>\n",
       "      <td>age_of_car</td>\n",
       "      <td>0.369018</td>\n",
       "    </tr>\n",
       "    <tr>\n",
       "      <td>retail</td>\n",
       "      <td>0.327238</td>\n",
       "    </tr>\n",
       "    <tr>\n",
       "      <td>mileage_in_km</td>\n",
       "      <td>0.105753</td>\n",
       "    </tr>\n",
       "    <tr>\n",
       "      <td>post_age_in_days</td>\n",
       "      <td>0.043603</td>\n",
       "    </tr>\n",
       "    <tr>\n",
       "      <td>location</td>\n",
       "      <td>0.032460</td>\n",
       "    </tr>\n",
       "    <tr>\n",
       "      <td>model</td>\n",
       "      <td>0.026309</td>\n",
       "    </tr>\n",
       "    <tr>\n",
       "      <td>body_type</td>\n",
       "      <td>0.024943</td>\n",
       "    </tr>\n",
       "    <tr>\n",
       "      <td>fuel_type</td>\n",
       "      <td>0.024912</td>\n",
       "    </tr>\n",
       "    <tr>\n",
       "      <td>brand</td>\n",
       "      <td>0.020861</td>\n",
       "    </tr>\n",
       "    <tr>\n",
       "      <td>color</td>\n",
       "      <td>0.014318</td>\n",
       "    </tr>\n",
       "    <tr>\n",
       "      <td>transmission</td>\n",
       "      <td>0.007131</td>\n",
       "    </tr>\n",
       "    <tr>\n",
       "      <td>poster_type</td>\n",
       "      <td>0.003454</td>\n",
       "    </tr>\n",
       "  </tbody>\n",
       "</table>\n",
       "</div>"
      ],
      "text/plain": [
       "                  importance\n",
       "age_of_car          0.369018\n",
       "retail              0.327238\n",
       "mileage_in_km       0.105753\n",
       "post_age_in_days    0.043603\n",
       "location            0.032460\n",
       "model               0.026309\n",
       "body_type           0.024943\n",
       "fuel_type           0.024912\n",
       "brand               0.020861\n",
       "color               0.014318\n",
       "transmission        0.007131\n",
       "poster_type         0.003454"
      ]
     },
     "execution_count": 100,
     "metadata": {},
     "output_type": "execute_result"
    }
   ],
   "source": [
    "f_list=X.columns\n",
    "df_fi = pd.DataFrame(rf.feature_importances_,index=f_list,columns=['importance']).sort_values(['importance'],ascending=False)\n",
    "df_fi"
   ]
  },
  {
   "cell_type": "code",
   "execution_count": 101,
   "metadata": {},
   "outputs": [
    {
     "data": {
      "text/plain": [
       "0.7023400998233057"
      ]
     },
     "execution_count": 101,
     "metadata": {},
     "output_type": "execute_result"
    }
   ],
   "source": [
    "# checked cross val score\n",
    "np.mean(cross_val_score(rf,X,y_log,cv=5))"
   ]
  },
  {
   "cell_type": "code",
   "execution_count": 102,
   "metadata": {},
   "outputs": [
    {
     "data": {
      "text/plain": [
       "Text(0.5,1,'price vs age')"
      ]
     },
     "execution_count": 102,
     "metadata": {},
     "output_type": "execute_result"
    },
    {
     "data": {
      "image/png": "[encoded data removed]",
      "text/plain": [
       "<Figure size 1008x576 with 1 Axes>"
      ]
     },
     "metadata": {
      "needs_background": "light"
     },
     "output_type": "display_data"
    }
   ],
   "source": [
    "'''checked to see the lifetime value of the car. It seems like after 30 is crazy, and we'll be assuming it's a reworked car'''\n",
    "plt.figure(figsize=(14,8))\n",
    "sns.regplot(final_df['age_of_car'],np.exp(y_log))\n",
    "plt.ylabel('price')\n",
    "plt.xlabel('age')\n",
    "plt.title('price vs age')"
   ]
  },
  {
   "cell_type": "code",
   "execution_count": 103,
   "metadata": {},
   "outputs": [],
   "source": [
    "#this is the straight-line depreciation formula\n",
    "dep_pred=X_test['retail']-(X_test['retail']/30*X_test['age_of_car'])"
   ]
  },
  {
   "cell_type": "code",
   "execution_count": 104,
   "metadata": {},
   "outputs": [],
   "source": [
    "# checked straight-line depreciation\n",
    "dep_df=final_df[['price','age_of_car']].copy()\n",
    "dep_df=dep_df[dep_df['age_of_car']<=30]\n",
    "dep_df['price']=np.log(dep_df['price'])"
   ]
  },
  {
   "cell_type": "code",
   "execution_count": 105,
   "metadata": {},
   "outputs": [
    {
     "data": {
      "text/plain": [
       "[<matplotlib.lines.Line2D at 0x1a2739f090>]"
      ]
     },
     "execution_count": 105,
     "metadata": {},
     "output_type": "execute_result"
    },
    {
     "data": {
      "image/png": "[encoded data removed]",
      "text/plain": [
       "<Figure size 1008x576 with 1 Axes>"
      ]
     },
     "metadata": {
      "needs_background": "light"
     },
     "output_type": "display_data"
    },
    {
     "data": {
      "image/png": "[encoded data removed]",
      "text/plain": [
       "<Figure size 1008x576 with 1 Axes>"
      ]
     },
     "metadata": {
      "needs_background": "light"
     },
     "output_type": "display_data"
    }
   ],
   "source": [
    "plt.figure(figsize=(14,8))\n",
    "sns.regplot(np.exp(y_log_test),np.exp(y_pred))\n",
    "plt.xlabel('Actual Price')\n",
    "plt.ylabel('Our Model\\'s price')\n",
    "plt.title('Our model')\n",
    "plt.xlim((0,2.8e7))\n",
    "plt.ylim((0,2.8e7))\n",
    "vals = np.linspace(start = 0, stop = 28000000, num = 100)\n",
    "plt.plot(vals,vals,linestyle='--')\n",
    "\n",
    "\n",
    "plt.figure(figsize=(14,8))\n",
    "sns.regplot(np.exp(y_log_test),dep_pred)\n",
    "plt.xlabel('Actual Price')\n",
    "plt.ylabel('Straight-line\\'s price')\n",
    "plt.title('Straight-line depreciation')\n",
    "plt.xlim((0,2.8e7))\n",
    "plt.ylim((0,2.8e7))\n",
    "plt.plot(vals,vals,linestyle='--')"
   ]
  },
  {
   "cell_type": "code",
   "execution_count": 1,
   "metadata": {},
   "outputs": [
    {
     "name": "stdout",
     "output_type": "stream",
     "text": [
      "Collecting pyjwt\n",
      "  Downloading https://files.pythonhosted.org/packages/87/8b/6a9f14b5f781697e51259d81657e6048fd31a113229cf346880bb7545565/PyJWT-1.7.1-py2.py3-none-any.whl\n",
      "Installing collected packages: pyjwt\n",
      "Successfully installed pyjwt-1.7.1\n"
     ]
    }
   ],
   "source": [
    "!pip install pyjwt"
   ]
  },
  {
   "cell_type": "code",
   "execution_count": 7,
   "metadata": {},
   "outputs": [],
   "source": [
    "import glob,os,yaml\n",
    "list_of_files = glob.glob('model/DTR*') # * means all if need specific format then *.sav\n",
    "latest_file = max(list_of_files)\n",
    "preprocessor_path  = \"model/pipeline.pkl\"\n",
    "model_path = f'{latest_file}'\n",
    "config = yaml.safe_load(open(\"config/config.yml\"))\n",
    "numerical_features = config['input_num']"
   ]
  },
  {
   "cell_type": "code",
   "execution_count": 8,
   "metadata": {},
   "outputs": [
    {
     "data": {
      "text/plain": [
       "'model/DTR 2020-05-06 15:41:41.sav'"
      ]
     },
     "execution_count": 8,
     "metadata": {},
     "output_type": "execute_result"
    }
   ],
   "source": [
    "latest_file"
   ]
  }
 ],
 "metadata": {
  "kernelspec": {
   "display_name": "Python 3",
   "language": "python",
   "name": "python3"
  },
  "language_info": {
   "codemirror_mode": {
    "name": "ipython",
    "version": 3
   },
   "file_extension": ".py",
   "mimetype": "text/x-python",
   "name": "python",
   "nbconvert_exporter": "python",
   "pygments_lexer": "ipython3",
   "version": "3.7.4"
  }
 },
 "nbformat": 4,
 "nbformat_minor": 2
}
